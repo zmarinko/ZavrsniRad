{
 "cells": [
  {
   "cell_type": "code",
   "execution_count": 1,
   "metadata": {},
   "outputs": [
    {
     "name": "stderr",
     "output_type": "stream",
     "text": [
      "c:\\Users\\zeljana\\AppData\\Local\\Programs\\Python\\Python310\\lib\\site-packages\\tqdm\\auto.py:22: TqdmWarning: IProgress not found. Please update jupyter and ipywidgets. See https://ipywidgets.readthedocs.io/en/stable/user_install.html\n",
      "  from .autonotebook import tqdm as notebook_tqdm\n"
     ]
    }
   ],
   "source": [
    "import numpy as np\n",
    "import torch\n",
    "import torch.nn as nn\n",
    "\n",
    "import matplotlib.pyplot as plt\n",
    "\n",
    "import pandas as pd\n",
    "import seaborn as sns\n",
    "\n",
    "from sklearn.datasets import load_digits, make_blobs\n",
    "from sklearn.model_selection import train_test_split\n",
    "from sklearn.metrics import accuracy_score, precision_score\n",
    "from sklearn.linear_model import LogisticRegression\n",
    "from sklearn.preprocessing import MinMaxScaler,StandardScaler"
   ]
  },
  {
   "attachments": {},
   "cell_type": "markdown",
   "metadata": {},
   "source": []
  },
  {
   "cell_type": "code",
   "execution_count": 2,
   "metadata": {},
   "outputs": [],
   "source": [
    "df = pd.read_csv('./real_for_all_NS_2000_2021.csv')\n",
    "df = df.drop([\"LOK\", \"ATT\", \"DAN\"], axis = 1)"
   ]
  },
  {
   "cell_type": "code",
   "execution_count": 3,
   "metadata": {},
   "outputs": [],
   "source": [
    "# Data processing\n",
    "df['sin_day'] =  np.sin(2*np.pi*df['RBD']/365)\n",
    "df['cos_day'] =  np.cos(2*np.pi*df['RBD']/365)\n",
    "\n",
    "df['sin_month'] =  np.sin(2*np.pi*df['MSC']/12)\n",
    "df['cos_month'] =  np.cos(2*np.pi*df['MSC']/12)\n",
    "\n",
    "#df['sin_year'] =  np.sin(2*np.pi*df['GOD']/21)\n",
    "#df['cos_year'] =  np.cos(2*np.pi*df['GOD']/21)\n",
    "\n",
    "df = df.drop([\"RBD\", \"MSC\", \"GOD\", \"DAT\"], axis = 1)\n"
   ]
  },
  {
   "cell_type": "code",
   "execution_count": 4,
   "metadata": {},
   "outputs": [
    {
     "data": {
      "text/html": [
       "<div>\n",
       "<style scoped>\n",
       "    .dataframe tbody tr th:only-of-type {\n",
       "        vertical-align: middle;\n",
       "    }\n",
       "\n",
       "    .dataframe tbody tr th {\n",
       "        vertical-align: top;\n",
       "    }\n",
       "\n",
       "    .dataframe thead th {\n",
       "        text-align: right;\n",
       "    }\n",
       "</style>\n",
       "<table border=\"1\" class=\"dataframe\">\n",
       "  <thead>\n",
       "    <tr style=\"text-align: right;\">\n",
       "      <th></th>\n",
       "      <th>RA</th>\n",
       "      <th>SN</th>\n",
       "      <th>TS</th>\n",
       "      <th>FG</th>\n",
       "      <th>MBV</th>\n",
       "      <th>SBV</th>\n",
       "      <th>PAD</th>\n",
       "      <th>VLZ</th>\n",
       "      <th>MNT</th>\n",
       "      <th>MKT</th>\n",
       "      <th>SRT</th>\n",
       "      <th>PRAM</th>\n",
       "      <th>PRBR</th>\n",
       "      <th>PRTR</th>\n",
       "      <th>sin_day</th>\n",
       "      <th>cos_day</th>\n",
       "      <th>sin_month</th>\n",
       "      <th>cos_month</th>\n",
       "    </tr>\n",
       "  </thead>\n",
       "  <tbody>\n",
       "    <tr>\n",
       "      <th>0</th>\n",
       "      <td>0.0</td>\n",
       "      <td>0.0</td>\n",
       "      <td>0.0</td>\n",
       "      <td>0.0</td>\n",
       "      <td>14.0</td>\n",
       "      <td>12.0</td>\n",
       "      <td>0.0</td>\n",
       "      <td>95.0</td>\n",
       "      <td>-4.0</td>\n",
       "      <td>-2.0</td>\n",
       "      <td>-3.0</td>\n",
       "      <td>0.0</td>\n",
       "      <td>0.0</td>\n",
       "      <td>0.0</td>\n",
       "      <td>0.017213</td>\n",
       "      <td>0.999852</td>\n",
       "      <td>0.5</td>\n",
       "      <td>0.866025</td>\n",
       "    </tr>\n",
       "    <tr>\n",
       "      <th>1</th>\n",
       "      <td>0.0</td>\n",
       "      <td>1.0</td>\n",
       "      <td>0.0</td>\n",
       "      <td>0.0</td>\n",
       "      <td>7.0</td>\n",
       "      <td>4.0</td>\n",
       "      <td>0.0</td>\n",
       "      <td>93.0</td>\n",
       "      <td>-3.0</td>\n",
       "      <td>-1.0</td>\n",
       "      <td>-1.0</td>\n",
       "      <td>0.0</td>\n",
       "      <td>0.0</td>\n",
       "      <td>0.0</td>\n",
       "      <td>0.034422</td>\n",
       "      <td>0.999407</td>\n",
       "      <td>0.5</td>\n",
       "      <td>0.866025</td>\n",
       "    </tr>\n",
       "    <tr>\n",
       "      <th>2</th>\n",
       "      <td>0.0</td>\n",
       "      <td>0.0</td>\n",
       "      <td>0.0</td>\n",
       "      <td>0.0</td>\n",
       "      <td>7.0</td>\n",
       "      <td>6.0</td>\n",
       "      <td>0.0</td>\n",
       "      <td>93.0</td>\n",
       "      <td>-3.0</td>\n",
       "      <td>1.0</td>\n",
       "      <td>-1.0</td>\n",
       "      <td>0.0</td>\n",
       "      <td>0.0</td>\n",
       "      <td>0.0</td>\n",
       "      <td>0.051620</td>\n",
       "      <td>0.998667</td>\n",
       "      <td>0.5</td>\n",
       "      <td>0.866025</td>\n",
       "    </tr>\n",
       "    <tr>\n",
       "      <th>3</th>\n",
       "      <td>0.0</td>\n",
       "      <td>0.0</td>\n",
       "      <td>0.0</td>\n",
       "      <td>1.0</td>\n",
       "      <td>11.0</td>\n",
       "      <td>5.0</td>\n",
       "      <td>0.0</td>\n",
       "      <td>97.0</td>\n",
       "      <td>-3.0</td>\n",
       "      <td>-1.0</td>\n",
       "      <td>-2.0</td>\n",
       "      <td>0.0</td>\n",
       "      <td>0.0</td>\n",
       "      <td>0.0</td>\n",
       "      <td>0.068802</td>\n",
       "      <td>0.997630</td>\n",
       "      <td>0.5</td>\n",
       "      <td>0.866025</td>\n",
       "    </tr>\n",
       "    <tr>\n",
       "      <th>4</th>\n",
       "      <td>0.0</td>\n",
       "      <td>0.0</td>\n",
       "      <td>0.0</td>\n",
       "      <td>1.0</td>\n",
       "      <td>11.0</td>\n",
       "      <td>6.0</td>\n",
       "      <td>0.0</td>\n",
       "      <td>97.0</td>\n",
       "      <td>-2.0</td>\n",
       "      <td>-1.0</td>\n",
       "      <td>-1.0</td>\n",
       "      <td>0.0</td>\n",
       "      <td>0.0</td>\n",
       "      <td>0.0</td>\n",
       "      <td>0.085965</td>\n",
       "      <td>0.996298</td>\n",
       "      <td>0.5</td>\n",
       "      <td>0.866025</td>\n",
       "    </tr>\n",
       "  </tbody>\n",
       "</table>\n",
       "</div>"
      ],
      "text/plain": [
       "    RA   SN   TS   FG   MBV   SBV  PAD   VLZ  MNT  MKT  SRT  PRAM  PRBR  PRTR  \\\n",
       "0  0.0  0.0  0.0  0.0  14.0  12.0  0.0  95.0 -4.0 -2.0 -3.0   0.0   0.0   0.0   \n",
       "1  0.0  1.0  0.0  0.0   7.0   4.0  0.0  93.0 -3.0 -1.0 -1.0   0.0   0.0   0.0   \n",
       "2  0.0  0.0  0.0  0.0   7.0   6.0  0.0  93.0 -3.0  1.0 -1.0   0.0   0.0   0.0   \n",
       "3  0.0  0.0  0.0  1.0  11.0   5.0  0.0  97.0 -3.0 -1.0 -2.0   0.0   0.0   0.0   \n",
       "4  0.0  0.0  0.0  1.0  11.0   6.0  0.0  97.0 -2.0 -1.0 -1.0   0.0   0.0   0.0   \n",
       "\n",
       "    sin_day   cos_day  sin_month  cos_month  \n",
       "0  0.017213  0.999852        0.5   0.866025  \n",
       "1  0.034422  0.999407        0.5   0.866025  \n",
       "2  0.051620  0.998667        0.5   0.866025  \n",
       "3  0.068802  0.997630        0.5   0.866025  \n",
       "4  0.085965  0.996298        0.5   0.866025  "
      ]
     },
     "execution_count": 4,
     "metadata": {},
     "output_type": "execute_result"
    }
   ],
   "source": [
    "y = df[[\"PRAM\", \"PRBR\", \"PRTR\"]].to_numpy()\n",
    "#X = df.to_numpy()\n",
    "\n",
    "df.head()\n"
   ]
  },
  {
   "cell_type": "code",
   "execution_count": 5,
   "metadata": {},
   "outputs": [],
   "source": [
    "def preprocess_y(y):\n",
    "    scaler = StandardScaler()\n",
    "    scaler.fit(y)\n",
    "    y = scaler.transform(y)\n",
    "    return y, scaler\n",
    "\n",
    "def preprocess_X(X):\n",
    "    scaler = StandardScaler()\n",
    "    scaler.fit(X[:,4:14])\n",
    "    X[:,4:14] = scaler.transform(X[:,4:14])\n",
    "    return X"
   ]
  },
  {
   "cell_type": "code",
   "execution_count": 6,
   "metadata": {},
   "outputs": [],
   "source": [
    "import tensorflow as tf\n",
    "import os\n"
   ]
  },
  {
   "cell_type": "code",
   "execution_count": 7,
   "metadata": {},
   "outputs": [],
   "source": [
    "def data_to_X_y(df, T=5):\n",
    "  X_model = []\n",
    "  y_model = []\n",
    "  for i in range(len(df)-T):\n",
    "    row = [a for a in df[i:i+T]]\n",
    "    X_model.append(row)\n",
    "    label = df[i+T][11:14]\n",
    "    y_model.append(label)\n",
    "  return np.array(X_model), np.array(y_model)"
   ]
  },
  {
   "cell_type": "code",
   "execution_count": null,
   "metadata": {},
   "outputs": [],
   "source": [
    "#X, y = data_to_X_y(X)\n",
    "#X.shape,y.shape"
   ]
  },
  {
   "cell_type": "code",
   "execution_count": 8,
   "metadata": {},
   "outputs": [
    {
     "data": {
      "text/plain": [
       "((6000, 3), (1000, 3), (1036, 3))"
      ]
     },
     "execution_count": 8,
     "metadata": {},
     "output_type": "execute_result"
    }
   ],
   "source": [
    "y_train_bp =  y[:6000,:]\n",
    "y_val_bp =  y[6000:7000,:]\n",
    "y_test_bp = y[7000:,:]\n",
    "y_train_bp.shape, y_val_bp.shape, y_test_bp.shape"
   ]
  },
  {
   "cell_type": "code",
   "execution_count": 9,
   "metadata": {},
   "outputs": [],
   "source": [
    "df = df.to_numpy()"
   ]
  },
  {
   "cell_type": "code",
   "execution_count": 10,
   "metadata": {},
   "outputs": [],
   "source": [
    "X_train = preprocess_X(df[:6000,:])\n",
    "X_val = preprocess_X(df[6000:7000,:])\n",
    "X_test = preprocess_X(df[7000:,:])"
   ]
  },
  {
   "cell_type": "code",
   "execution_count": 11,
   "metadata": {},
   "outputs": [
    {
     "data": {
      "text/plain": [
       "((5995, 5, 18), (5995, 3), (995, 5, 18), (995, 3), (1031, 5, 18), (1031, 3))"
      ]
     },
     "execution_count": 11,
     "metadata": {},
     "output_type": "execute_result"
    }
   ],
   "source": [
    "X_train, y_train = data_to_X_y(X_train)\n",
    "X_val, y_val = data_to_X_y(X_val)\n",
    "X_test, y_test = data_to_X_y(X_test)\n",
    "X_train.shape, y_train.shape, X_val.shape, y_val.shape, X_test.shape, y_test.shape"
   ]
  },
  {
   "cell_type": "code",
   "execution_count": 12,
   "metadata": {},
   "outputs": [],
   "source": [
    "from tensorflow.keras.models import Sequential\n",
    "from tensorflow.keras.layers import *\n",
    "from tensorflow.keras.callbacks import ModelCheckpoint\n",
    "from tensorflow.keras.losses import MeanSquaredError, Huber, Hinge\n",
    "from tensorflow.keras.metrics import RootMeanSquaredError\n",
    "from tensorflow.keras.optimizers import Adam"
   ]
  },
  {
   "cell_type": "code",
   "execution_count": null,
   "metadata": {},
   "outputs": [],
   "source": [
    "X_train.shape[2],y_train.shape"
   ]
  },
  {
   "cell_type": "code",
   "execution_count": 13,
   "metadata": {},
   "outputs": [
    {
     "name": "stdout",
     "output_type": "stream",
     "text": [
      "Model: \"sequential\"\n",
      "_________________________________________________________________\n",
      " Layer (type)                Output Shape              Param #   \n",
      "=================================================================\n",
      " lstm (LSTM)                 (None, 64)                21248     \n",
      "                                                                 \n",
      " dropout (Dropout)           (None, 64)                0         \n",
      "                                                                 \n",
      " dense (Dense)               (None, 8)                 520       \n",
      "                                                                 \n",
      " dense_1 (Dense)             (None, 3)                 27        \n",
      "                                                                 \n",
      "=================================================================\n",
      "Total params: 21,795\n",
      "Trainable params: 21,795\n",
      "Non-trainable params: 0\n",
      "_________________________________________________________________\n"
     ]
    }
   ],
   "source": [
    "T = 5\n",
    "attribute_number = X_train.shape[2]\n",
    "model3 = Sequential([\n",
    "    InputLayer( input_shape = (T, attribute_number) ),\n",
    "    LSTM(64),\n",
    "    Dropout(0.2),\n",
    "    Dense(8, activation = 'relu'),\n",
    "    Dense(3, activation = 'linear')\n",
    "])\n",
    "\n",
    "model3.summary()"
   ]
  },
  {
   "cell_type": "code",
   "execution_count": 22,
   "metadata": {},
   "outputs": [],
   "source": [
    "cp3 = ModelCheckpoint('model3/', save_best_only=True)\n",
    "model3.compile(loss=MeanSquaredError(), optimizer=Adam(learning_rate=0.001), metrics=[RootMeanSquaredError()])"
   ]
  },
  {
   "cell_type": "code",
   "execution_count": null,
   "metadata": {},
   "outputs": [],
   "source": [
    "X_train, y_train"
   ]
  },
  {
   "cell_type": "code",
   "execution_count": 23,
   "metadata": {},
   "outputs": [
    {
     "name": "stdout",
     "output_type": "stream",
     "text": [
      "Epoch 1/20\n",
      "180/188 [===========================>..] - ETA: 0s - loss: 0.3393 - root_mean_squared_error: 0.5825"
     ]
    },
    {
     "name": "stderr",
     "output_type": "stream",
     "text": [
      "WARNING:absl:Found untraced functions such as lstm_cell_layer_call_fn, lstm_cell_layer_call_and_return_conditional_losses while saving (showing 2 of 2). These functions will not be directly callable after loading.\n"
     ]
    },
    {
     "name": "stdout",
     "output_type": "stream",
     "text": [
      "INFO:tensorflow:Assets written to: model3\\assets\n"
     ]
    },
    {
     "name": "stderr",
     "output_type": "stream",
     "text": [
      "INFO:tensorflow:Assets written to: model3\\assets\n"
     ]
    },
    {
     "name": "stdout",
     "output_type": "stream",
     "text": [
      "188/188 [==============================] - 8s 33ms/step - loss: 0.3421 - root_mean_squared_error: 0.5849 - val_loss: 0.4502 - val_root_mean_squared_error: 0.6709\n",
      "Epoch 2/20\n",
      "188/188 [==============================] - 1s 5ms/step - loss: 0.3322 - root_mean_squared_error: 0.5763 - val_loss: 0.4533 - val_root_mean_squared_error: 0.6733\n",
      "Epoch 3/20\n",
      "188/188 [==============================] - 1s 5ms/step - loss: 0.3245 - root_mean_squared_error: 0.5697 - val_loss: 0.4678 - val_root_mean_squared_error: 0.6839\n",
      "Epoch 4/20\n",
      "188/188 [==============================] - 1s 5ms/step - loss: 0.3056 - root_mean_squared_error: 0.5528 - val_loss: 0.4782 - val_root_mean_squared_error: 0.6915\n",
      "Epoch 5/20\n",
      "188/188 [==============================] - 1s 5ms/step - loss: 0.2877 - root_mean_squared_error: 0.5364 - val_loss: 0.4933 - val_root_mean_squared_error: 0.7024\n",
      "Epoch 6/20\n",
      "188/188 [==============================] - 1s 5ms/step - loss: 0.2894 - root_mean_squared_error: 0.5379 - val_loss: 0.4830 - val_root_mean_squared_error: 0.6950\n",
      "Epoch 7/20\n",
      "188/188 [==============================] - 1s 5ms/step - loss: 0.2803 - root_mean_squared_error: 0.5294 - val_loss: 0.5004 - val_root_mean_squared_error: 0.7074\n",
      "Epoch 8/20\n",
      "188/188 [==============================] - 1s 5ms/step - loss: 0.2653 - root_mean_squared_error: 0.5150 - val_loss: 0.5259 - val_root_mean_squared_error: 0.7252\n",
      "Epoch 9/20\n",
      "188/188 [==============================] - 1s 5ms/step - loss: 0.2640 - root_mean_squared_error: 0.5138 - val_loss: 0.5072 - val_root_mean_squared_error: 0.7122\n",
      "Epoch 10/20\n",
      "188/188 [==============================] - 1s 5ms/step - loss: 0.2623 - root_mean_squared_error: 0.5122 - val_loss: 0.5171 - val_root_mean_squared_error: 0.7191\n",
      "Epoch 11/20\n",
      "188/188 [==============================] - 1s 5ms/step - loss: 0.2471 - root_mean_squared_error: 0.4971 - val_loss: 0.5225 - val_root_mean_squared_error: 0.7228\n",
      "Epoch 12/20\n",
      "188/188 [==============================] - 1s 6ms/step - loss: 0.2336 - root_mean_squared_error: 0.4833 - val_loss: 0.5241 - val_root_mean_squared_error: 0.7239\n",
      "Epoch 13/20\n",
      "188/188 [==============================] - 1s 6ms/step - loss: 0.2322 - root_mean_squared_error: 0.4818 - val_loss: 0.5221 - val_root_mean_squared_error: 0.7225\n",
      "Epoch 14/20\n",
      "188/188 [==============================] - 1s 6ms/step - loss: 0.2300 - root_mean_squared_error: 0.4796 - val_loss: 0.5287 - val_root_mean_squared_error: 0.7271\n",
      "Epoch 15/20\n",
      "188/188 [==============================] - 1s 6ms/step - loss: 0.2368 - root_mean_squared_error: 0.4866 - val_loss: 0.5521 - val_root_mean_squared_error: 0.7430\n",
      "Epoch 16/20\n",
      "188/188 [==============================] - 1s 6ms/step - loss: 0.2226 - root_mean_squared_error: 0.4718 - val_loss: 0.5548 - val_root_mean_squared_error: 0.7448\n",
      "Epoch 17/20\n",
      "188/188 [==============================] - 2s 9ms/step - loss: 0.2171 - root_mean_squared_error: 0.4660 - val_loss: 0.5437 - val_root_mean_squared_error: 0.7373\n",
      "Epoch 18/20\n",
      "188/188 [==============================] - 2s 10ms/step - loss: 0.2062 - root_mean_squared_error: 0.4541 - val_loss: 0.5248 - val_root_mean_squared_error: 0.7245\n",
      "Epoch 19/20\n",
      "188/188 [==============================] - 2s 10ms/step - loss: 0.2062 - root_mean_squared_error: 0.4541 - val_loss: 0.5485 - val_root_mean_squared_error: 0.7406\n",
      "Epoch 20/20\n",
      "188/188 [==============================] - 2s 10ms/step - loss: 0.1906 - root_mean_squared_error: 0.4366 - val_loss: 0.5623 - val_root_mean_squared_error: 0.7499\n"
     ]
    },
    {
     "data": {
      "text/plain": [
       "<keras.callbacks.History at 0x1b54a282740>"
      ]
     },
     "execution_count": 23,
     "metadata": {},
     "output_type": "execute_result"
    }
   ],
   "source": [
    "model3.fit(X_train, y_train, validation_data=(X_val, y_val), epochs=10, callbacks=[cp3])"
   ]
  },
  {
   "cell_type": "code",
   "execution_count": 52,
   "metadata": {},
   "outputs": [],
   "source": [
    "def plot_predictions(model, X, y, start=720, end=1030):\n",
    "    predictions = model.predict(X)#.flatten()\n",
    "    p_PRAM, p_PRBR, p_PRTR = predictions[:, 0], predictions[:, 1], predictions[:, 2]\n",
    "    a_PRAM, a_PRBR, a_PRTR = y[:, 0], y[:, 1], y[:,2]\n",
    "    df = pd.DataFrame(data={'PRAM Predictions': p_PRAM,\n",
    "                'PRAM Actuals':a_PRAM,\n",
    "                'PRBR Predictions': p_PRBR,\n",
    "                'PRBR Actuals': a_PRBR,\n",
    "                'PRTR Predictions': p_PRTR,\n",
    "                'PRTR Actuals':a_PRTR,\n",
    "                })\n",
    "    plt.plot(df['PRAM Predictions'][start:end], label = 'Predikcija ambrozije', alpha = 0.7)\n",
    "    plt.plot(df['PRAM Actuals'][start:end], label = 'Vrijednost ambrozije', alpha = 0.7)\n",
    "    plt.plot(df['PRBR Predictions'][start:end], label = 'Predikcija breze', alpha = 0.7)\n",
    "    plt.plot(df['PRBR Actuals'][start:end], label = 'Vrijednost breze', alpha = 0.7)\n",
    "    plt.plot(df['PRTR Predictions'][start:end], label = 'Predikcija trave', alpha = 0.7)\n",
    "    plt.plot(df['PRTR Actuals'][start:end], label = 'Vrijednost trave', alpha = 0.7)\n",
    "    plt.legend(loc=\"upper right\")\n",
    "    \n",
    "    return df[start:end]"
   ]
  },
  {
   "cell_type": "code",
   "execution_count": 53,
   "metadata": {},
   "outputs": [
    {
     "name": "stdout",
     "output_type": "stream",
     "text": [
      "33/33 [==============================] - 0s 3ms/step\n"
     ]
    },
    {
     "data": {
      "image/png": "[encoded data removed]",
      "text/plain": [
       "<Figure size 432x288 with 1 Axes>"
      ]
     },
     "metadata": {
      "needs_background": "light"
     },
     "output_type": "display_data"
    }
   ],
   "source": [
    "de = plot_predictions(model3, X_test, y_test)"
   ]
  },
  {
   "cell_type": "code",
   "execution_count": 26,
   "metadata": {},
   "outputs": [
    {
     "data": {
      "text/plain": [
       "(0, 360)"
      ]
     },
     "execution_count": 26,
     "metadata": {},
     "output_type": "execute_result"
    }
   ],
   "source": [
    "start = 0\n",
    "end = 360\n",
    "start,end"
   ]
  },
  {
   "cell_type": "code",
   "execution_count": 59,
   "metadata": {},
   "outputs": [
    {
     "data": {
      "text/plain": [
       "Text(0.5, 1.0, '2021')"
      ]
     },
     "execution_count": 59,
     "metadata": {},
     "output_type": "execute_result"
    },
    {
     "data": {
      "image/png": "[encoded data removed]",
      "text/plain": [
       "<Figure size 432x288 with 1 Axes>"
      ]
     },
     "metadata": {
      "needs_background": "light"
     },
     "output_type": "display_data"
    }
   ],
   "source": [
    "# PRAM\n",
    "plt.plot(de['PRAM Predictions'][start:end], label = 'Predikcija ambrozije', alpha = 0.7)\n",
    "plt.plot(de['PRAM Actuals'][start:end], label = 'Vrijednost ambrozije', alpha = 0.7)\n",
    "plt.legend(loc=\"upper left\")\n",
    "plt.title('2021')"
   ]
  },
  {
   "cell_type": "code",
   "execution_count": 58,
   "metadata": {},
   "outputs": [
    {
     "data": {
      "text/plain": [
       "Text(0.5, 1.0, '2021')"
      ]
     },
     "execution_count": 58,
     "metadata": {},
     "output_type": "execute_result"
    },
    {
     "data": {
      "image/png": "[encoded data removed]",
      "text/plain": [
       "<Figure size 432x288 with 1 Axes>"
      ]
     },
     "metadata": {
      "needs_background": "light"
     },
     "output_type": "display_data"
    }
   ],
   "source": [
    "# PRBR\n",
    "plt.plot(de['PRBR Predictions'][start:150], label = 'Predikcija breze', alpha = 0.7)\n",
    "plt.plot(de['PRBR Actuals'][start:150], label = 'Vrijednost breze', alpha = 0.7)\n",
    "plt.legend(loc=\"upper right\")\n",
    "plt.title('2021')"
   ]
  },
  {
   "cell_type": "code",
   "execution_count": 57,
   "metadata": {},
   "outputs": [
    {
     "data": {
      "text/plain": [
       "Text(0.5, 1.0, '2021')"
      ]
     },
     "execution_count": 57,
     "metadata": {},
     "output_type": "execute_result"
    },
    {
     "data": {
      "image/png": "[encoded data removed]",
      "text/plain": [
       "<Figure size 432x288 with 1 Axes>"
      ]
     },
     "metadata": {
      "needs_background": "light"
     },
     "output_type": "display_data"
    }
   ],
   "source": [
    "# PRTR\n",
    "plt.plot(de['PRTR Predictions'][start:end], label = 'Predikcija trave', alpha = 0.7)\n",
    "plt.plot(de['PRTR Actuals'][start:end], label = 'Vrijednost trave', alpha = 0.7)\n",
    "plt.legend(loc=\"upper right\")\n",
    "plt.title('2021')"
   ]
  },
  {
   "cell_type": "code",
   "execution_count": null,
   "metadata": {},
   "outputs": [],
   "source": []
  }
 ],
 "metadata": {
  "kernelspec": {
   "display_name": "Python 3.10.4 64-bit",
   "language": "python",
   "name": "python3"
  },
  "language_info": {
   "codemirror_mode": {
    "name": "ipython",
    "version": 3
   },
   "file_extension": ".py",
   "mimetype": "text/x-python",
   "name": "python",
   "nbconvert_exporter": "python",
   "pygments_lexer": "ipython3",
   "version": "3.10.4"
  },
  "orig_nbformat": 4,
  "vscode": {
   "interpreter": {
    "hash": "2cceb584b7ee4be5978acfb0c8c681b00600cd10dd4f3e20a3b4aa83c32f7f82"
   }
  }
 },
 "nbformat": 4,
 "nbformat_minor": 2
}
